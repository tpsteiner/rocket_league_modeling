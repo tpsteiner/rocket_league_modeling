{
 "cells": [
  {
   "cell_type": "code",
   "execution_count": 1,
   "metadata": {
    "collapsed": true
   },
   "outputs": [],
   "source": [
    "import requests\n",
    "from tqdm import tqdm\n",
    "import json\n",
    "import os"
   ]
  },
  {
   "cell_type": "code",
   "execution_count": null,
   "metadata": {
    "collapsed": true
   },
   "outputs": [],
   "source": [
    "# rocketleaguestats.com API key\n",
    "# Documentation at http://documentation.rocketleaguestats.com/\n",
    "\n",
    "auth = \"JLB9OB8T6HB5UUXPI0SN\""
   ]
  },
  {
   "cell_type": "code",
   "execution_count": 2,
   "metadata": {
    "collapsed": true
   },
   "outputs": [],
   "source": [
    "# Read list of steam IDs that own Rocket League\n",
    "# Courtesy of reddit user flashman\n",
    "\n",
    "f = open(\"../data/flashman_rl_ids.txt\")\n",
    "steam_ids = f.read().split(\"\\n\")"
   ]
  },
  {
   "cell_type": "code",
   "execution_count": 46,
   "metadata": {
    "collapsed": false
   },
   "outputs": [
    {
     "name": "stderr",
     "output_type": "stream",
     "text": [
      "100%|█████████████████████████████████████████████████████████████████████████| 17160/17160 [36:51:44<00:00,  3.62s/it]\n"
     ]
    }
   ],
   "source": [
    "# Bad practice but I don't even care\n",
    "\n",
    "for i in tqdm(steam_ids):\n",
    "    try:\n",
    "        player_stats = get_player_stats(i, auth)\n",
    "        append_record(player_stats)\n",
    "    except:\n",
    "        continue"
   ]
  }
 ],
 "metadata": {
  "kernelspec": {
   "display_name": "Python 3",
   "language": "python",
   "name": "python3"
  },
  "language_info": {
   "codemirror_mode": {
    "name": "ipython",
    "version": 3
   },
   "file_extension": ".py",
   "mimetype": "text/x-python",
   "name": "python",
   "nbconvert_exporter": "python",
   "pygments_lexer": "ipython3",
   "version": "3.5.1"
  }
 },
 "nbformat": 4,
 "nbformat_minor": 0
}
