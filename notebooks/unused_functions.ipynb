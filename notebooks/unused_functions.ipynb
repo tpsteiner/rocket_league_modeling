{
 "cells": [
  {
   "cell_type": "code",
   "execution_count": null,
   "metadata": {
    "collapsed": true
   },
   "outputs": [],
   "source": [
    "# Convert list of steam IDs into API \"batch\" format\n",
    "\n",
    "def ids_list_to_batch(platform, ids):\n",
    "    batch = [{\"platformId\":str(platform), \"uniqueId\":str(ids[i])} for i in range(len(ids))]\n",
    "    \n",
    "    return batch\n",
    "# Send request with batch of steam IDs and return a dict of player stats\n",
    "# Request up to 10 steam IDs at a time\n",
    "\n",
    "def batch_to_dict(auth, batch):\n",
    "    url = \"https://api.rocketleaguestats.com/v1/player/batch\"\n",
    "    headers = {\"Authorization\":auth}\n",
    "    \n",
    "    response = requests.post(url, headers=headers, json=batch)\n",
    "    try:\n",
    "        stats_list = ast.literal_eval(response.text)\n",
    "    except:\n",
    "        stats_list = response.text\n",
    "        \n",
    "    return stats_list\n",
    "def append_record(record):\n",
    "    with open(\"../data/db.txt\", \"a\") as f:\n",
    "        json.dump(record, f)\n",
    "        f.write(os.linesep)\n",
    "# Take list of steam IDs, send requests to RLS API in batches,\n",
    "# create a list of dict responses, return the list\n",
    "# NOTE: Only 2 requests allowed per second\n",
    "# NOTE: Server is super slow so I don't think 2/s matters...\n",
    "\n",
    "def create_db(steam_ids, auth, db=[]):\n",
    "    full_batches = len(steam_ids) // 10\n",
    "    \n",
    "    for i in tqdm(range(full_batches)):\n",
    "        start = i * 10\n",
    "        stop = i * 10 + 10\n",
    "        \n",
    "        batch = ids_list_to_batch(1, steam_ids[start:stop])\n",
    "        stats_dicts = batch_to_dict(auth, batch)\n",
    "        \n",
    "        for i in range(len(stats_dicts)):\n",
    "            append_record(stats_dicts[i])\n",
    "            \n",
    "    batch = ids_list_to_batch(1, steam_ids[stop:])\n",
    "    stats_dict = batch_to_dict(auth, batch)\n",
    "    \n",
    "    for i in range(len(stats_dicts)):\n",
    "        append_record(stats_dicts[i])\n",
    "    \n",
    "    return 0\n"
   ]
  }
 ],
 "metadata": {
  "kernelspec": {
   "display_name": "Python 3",
   "language": "python",
   "name": "python3"
  },
  "language_info": {
   "codemirror_mode": {
    "name": "ipython",
    "version": 3
   },
   "file_extension": ".py",
   "mimetype": "text/x-python",
   "name": "python",
   "nbconvert_exporter": "python",
   "pygments_lexer": "ipython3",
   "version": "3.5.1"
  }
 },
 "nbformat": 4,
 "nbformat_minor": 0
}
