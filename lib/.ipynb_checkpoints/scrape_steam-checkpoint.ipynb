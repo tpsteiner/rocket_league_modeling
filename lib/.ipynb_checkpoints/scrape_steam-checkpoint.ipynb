{
 "cells": [
  {
   "cell_type": "code",
   "execution_count": 2,
   "metadata": {
    "collapsed": true
   },
   "outputs": [],
   "source": [
    "import requests\n",
    "import time\n",
    "from tqdm import tqdm\n",
    "import json\n",
    "import pandas as pd\n",
    "import xmltodict\n",
    "\n",
    "# Steam API authentication key\n",
    "# Documentation at https://developer.valvesoftware.com/wiki/Steam_Web_API\n",
    "auth = \"1D7EE9848468B74ABFD4FC8CA0CD7475\""
   ]
  },
  {
   "cell_type": "code",
   "execution_count": 8,
   "metadata": {
    "collapsed": false
   },
   "outputs": [],
   "source": [
    "def remove_white(s):\n",
    "    s = s.replace(\"\\n\", \"\")\n",
    "    s = s.replace(\"\\t\", \"\")\n",
    "    s = s.replace(\" \", \"\")\n",
    "    s = s.replace(\"\\\\\", \"\")\n",
    "    \n",
    "    return s"
   ]
  },
  {
   "cell_type": "code",
   "execution_count": 21,
   "metadata": {
    "collapsed": false
   },
   "outputs": [],
   "source": [
    "# Get games owned by player, along with total playtime and (limited) last 2 weeks playtime\n",
    "\n",
    "def get_owned_games(steam_id):\n",
    "    url = \"http://api.steampowered.com/IPlayerService/GetOwnedGames/v0001/\" + \\\n",
    "        \"?key=\" + auth + \\\n",
    "        \"&steamid=\" + str(steam_id) + \\\n",
    "        \"&format=json\"\n",
    "    \n",
    "    response = requests.get(url)\n",
    "    \n",
    "    games_json = remove_white(response.text)\n",
    "    games_dict = json.loads(games_json)\n",
    "    games = games_dict[\"response\"][\"games\"]\n",
    "    game_count = games_dict[\"response\"][\"game_count\"]\n",
    "    \n",
    "    return [game_count, games]"
   ]
  },
  {
   "cell_type": "code",
   "execution_count": 22,
   "metadata": {
    "collapsed": true
   },
   "outputs": [],
   "source": [
    "def get_friend_list(steam_id):\n",
    "    url = \"http://api.steampowered.com/ISteamUser/GetFriendList/v0001/\" + \\\n",
    "        \"?key=\" + auth + \\\n",
    "        \"&steamid=\" + str(steam_id) + \\\n",
    "        \"&relationship=friend\"\n",
    "    \n",
    "    response = requests.get(url)\n",
    "    \n",
    "    friend_json = remove_white(response.text)\n",
    "    friends_dict = json.loads(friends_json)\n",
    "    friends = friends_dict[\"friendslist\"]\n",
    "    \n",
    "    return friend_list"
   ]
  },
  {
   "cell_type": "code",
   "execution_count": 19,
   "metadata": {
    "collapsed": true
   },
   "outputs": [],
   "source": [
    "# Get player's public info\n",
    "# Up to 100 steam ids at a time (comma separated)\n",
    "\n",
    "def get_player_summaries(steam_ids):\n",
    "    steam_ids_str = steam_ids[0]\n",
    "    \n",
    "    for i in range(len(steam_ids)-1):\n",
    "        steam_ids_str += \",\" + str(steam_ids[i])\n",
    "\n",
    "    url = \"http://api.steampowered.com/ISteamUser/GetPlayerSummaries/v0002/\" + \\\n",
    "        \"?key=\" + auth + \\\n",
    "        \"&steamids=\" + steam_ids_str + \\\n",
    "        \"&relationship=friend\"\n",
    "    \n",
    "    response = requests.get(url)\n",
    "    \n",
    "    summaries_json = remove_white(response.text)\n",
    "    summaries_dict = json.loads(summaries_json)\n",
    "    summaries = summaries_dict[\"response\"]\n",
    "    \n",
    "    return summaries"
   ]
  },
  {
   "cell_type": "code",
   "execution_count": 6,
   "metadata": {
    "collapsed": true
   },
   "outputs": [],
   "source": [
    "# Check if user owns Rocket League\n",
    "\n",
    "def rl_check(games):\n",
    "    return '\"appid\": 252950' in games"
   ]
  },
  {
   "cell_type": "code",
   "execution_count": 7,
   "metadata": {
    "collapsed": false
   },
   "outputs": [],
   "source": [
    "# Load 1000 steamIDs taken from steam's Rocket League community page\n",
    "\n",
    "response = requests.get(\"http://steamcommunity.com/games/252950/memberslistxml?xml=1\")\n",
    "data = xmltodict.parse(response.text)\n",
    "community_ids = data['memberList']['members']['steamID64']"
   ]
  },
  {
   "cell_type": "code",
   "execution_count": 24,
   "metadata": {
    "collapsed": false,
    "scrolled": false
   },
   "outputs": [],
   "source": [
    "# Add player game info to dictionary\n",
    "\n",
    "def append_games_to_dict(db, steam_id):\n",
    "    games = get_owned_games(steam_id)\n",
    "    \n",
    "    db[steam_id][\"game_count\"] = games[0]\n",
    "    db[steam_id][\"games\"] = games[1]\n",
    "    \n",
    "    return db"
   ]
  },
  {
   "cell_type": "code",
   "execution_count": 25,
   "metadata": {
    "collapsed": false
   },
   "outputs": [],
   "source": [
    "# Add player friends to dictionary\n",
    "\n",
    "def append_friends_to_dict(db, steam_id):\n",
    "    friends = get_friend_list(steam_id)\n",
    "    \n",
    "    db[steam_id][\"friends\"] = friends\n",
    "    \n",
    "    return db"
   ]
  },
  {
   "cell_type": "code",
   "execution_count": 32,
   "metadata": {
    "collapsed": false
   },
   "outputs": [
    {
     "data": {
      "text/plain": [
       "{'players': [{'avatar': 'https://steamcdn-a.akamaihd.net/steamcommunity/public/images/avatars/fe/fef49e7fa7e1997310d705b2a6158ff8dc1cdfeb.jpg',\n",
       "   'avatarfull': 'https://steamcdn-a.akamaihd.net/steamcommunity/public/images/avatars/fe/fef49e7fa7e1997310d705b2a6158ff8dc1cdfeb_full.jpg',\n",
       "   'avatarmedium': 'https://steamcdn-a.akamaihd.net/steamcommunity/public/images/avatars/fe/fef49e7fa7e1997310d705b2a6158ff8dc1cdfeb_medium.jpg',\n",
       "   'commentpermission': 2,\n",
       "   'communityvisibilitystate': 1,\n",
       "   'lastlogoff': 1383334551,\n",
       "   'personaname': 'SteamCommunityGroupOwner',\n",
       "   'personastate': 0,\n",
       "   'profilestate': 1,\n",
       "   'profileurl': 'http://steamcommunity.com/profiles/76561198067124199/',\n",
       "   'steamid': '76561198067124199'}]}"
      ]
     },
     "execution_count": 32,
     "metadata": {},
     "output_type": "execute_result"
    }
   ],
   "source": [
    "get_player_summaries(community_ids[0:1])"
   ]
  }
 ],
 "metadata": {
  "kernelspec": {
   "display_name": "Python 3",
   "language": "python",
   "name": "python3"
  },
  "language_info": {
   "codemirror_mode": {
    "name": "ipython",
    "version": 3
   },
   "file_extension": ".py",
   "mimetype": "text/x-python",
   "name": "python",
   "nbconvert_exporter": "python",
   "pygments_lexer": "ipython3",
   "version": "3.5.1"
  }
 },
 "nbformat": 4,
 "nbformat_minor": 0
}
