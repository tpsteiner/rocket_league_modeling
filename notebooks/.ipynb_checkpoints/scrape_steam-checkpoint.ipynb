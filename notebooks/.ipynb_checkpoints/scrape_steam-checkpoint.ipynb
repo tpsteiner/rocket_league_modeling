{
 "cells": [
  {
   "cell_type": "code",
   "execution_count": 3,
   "metadata": {
    "collapsed": false
   },
   "outputs": [],
   "source": [
    "from tqdm import tqdm\n",
    "import xmltodict\n",
    "from os import chdir\n",
    "chdir('../')\n",
    "\n",
    "from python.steam_API import *"
   ]
  },
  {
   "cell_type": "code",
   "execution_count": 2,
   "metadata": {
    "collapsed": true
   },
   "outputs": [],
   "source": [
    "# Steam API authentication key\n",
    "# Documentation at https://developer.valvesoftware.com/wiki/Steam_Web_API\n",
    "\n",
    "auth = \"1D7EE9848468B74ABFD4FC8CA0CD7475\""
   ]
  },
  {
   "cell_type": "code",
   "execution_count": 7,
   "metadata": {
    "collapsed": false
   },
   "outputs": [],
   "source": [
    "# Load 1000 steamIDs taken from steam's Rocket League community page\n",
    "\n",
    "response = requests.get(\"http://steamcommunity.com/games/252950/memberslistxml?xml=1\")\n",
    "data = xmltodict.parse(response.text)\n",
    "community_ids = data['memberList']['members']['steamID64']"
   ]
  }
 ],
 "metadata": {
  "kernelspec": {
   "display_name": "Python 3",
   "language": "python",
   "name": "python3"
  },
  "language_info": {
   "codemirror_mode": {
    "name": "ipython",
    "version": 3
   },
   "file_extension": ".py",
   "mimetype": "text/x-python",
   "name": "python",
   "nbconvert_exporter": "python",
   "pygments_lexer": "ipython3",
   "version": "3.5.1"
  }
 },
 "nbformat": 4,
 "nbformat_minor": 0
}
