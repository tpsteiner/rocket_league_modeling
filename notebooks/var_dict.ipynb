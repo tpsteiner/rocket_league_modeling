{
 "cells": [
  {
   "cell_type": "code",
   "execution_count": 14,
   "metadata": {
    "collapsed": true
   },
   "outputs": [],
   "source": [
    "key = \"JLB9OB8T6HB5UUXPI0SN\""
   ]
  },
  {
   "cell_type": "code",
   "execution_count": 15,
   "metadata": {
    "collapsed": false
   },
   "outputs": [
    {
     "name": "stdout",
     "output_type": "stream",
     "text": [
      "Creating and starting an asyncio event loop...\n",
      "\n",
      "Playlists:\n",
      "[Playlist(id=1, name='Duel', platform='Steam', population=399, last_updated=1502391334),\n",
      " Playlist(id=1, name='Duel', platform='PS4', population=853, last_updated=1502391334),\n",
      " Playlist(id=1, name='Duel', platform='XboxOne', population=553, last_updated=1502391334),\n",
      " Playlist(id=2, name='Doubles', platform='Steam', population=3587, last_updated=1502391334),\n",
      " Playlist(id=2, name='Doubles', platform='PS4', population=6461, last_updated=1502391334),\n",
      " Playlist(id=2, name='Doubles', platform='XboxOne', population=4573, last_updated=1502391334),\n",
      " Playlist(id=3, name='Standard', platform='Steam', population=3156, last_updated=1502391334),\n",
      " Playlist(id=3, name='Standard', platform='PS4', population=5371, last_updated=1502391334),\n",
      " Playlist(id=3, name='Standard', platform='XboxOne', population=3490, last_updated=1502391334),\n",
      " Playlist(id=4, name='Chaos', platform='Steam', population=438, last_updated=1502391334),\n",
      " Playlist(id=4, name='Chaos', platform='PS4', population=1134, last_updated=1502391334),\n",
      " Playlist(id=4, name='Chaos', platform='XboxOne', population=620, last_updated=1502391334),\n",
      " Playlist(id=10, name='Ranked Duel', platform='Steam', population=1131, last_updated=1502391334),\n",
      " Playlist(id=10, name='Ranked Duel', platform='PS4', population=1721, last_updated=1502391334),\n",
      " Playlist(id=10, name='Ranked Duel', platform='XboxOne', population=946, last_updated=1502391334),\n",
      " Playlist(id=11, name='Ranked Doubles', platform='Steam', population=8551, last_updated=1502391334),\n",
      " Playlist(id=11, name='Ranked Doubles', platform='PS4', population=11405, last_updated=1502391334),\n",
      " Playlist(id=11, name='Ranked Doubles', platform='XboxOne', population=6141, last_updated=1502391334),\n",
      " Playlist(id=12, name='Ranked Solo Standard', platform='Steam', population=1685, last_updated=1502391334),\n",
      " Playlist(id=12, name='Ranked Solo Standard', platform='PS4', population=1570, last_updated=1502391334),\n",
      " Playlist(id=12, name='Ranked Solo Standard', platform='XboxOne', population=913, last_updated=1502391334),\n",
      " Playlist(id=13, name='Ranked Standard', platform='Steam', population=4936, last_updated=1502391334),\n",
      " Playlist(id=13, name='Ranked Standard', platform='PS4', population=6477, last_updated=1502391334),\n",
      " Playlist(id=13, name='Ranked Standard', platform='XboxOne', population=3297, last_updated=1502391334),\n",
      " Playlist(id=14, name='Mutator Mashup', platform='Steam', population=0, last_updated=1501959215),\n",
      " Playlist(id=14, name='Mutator Mashup', platform='XboxOne', population=0, last_updated=1501905781),\n",
      " Playlist(id=15, name='Snow Day', platform='Steam', population=196, last_updated=1502391334),\n",
      " Playlist(id=15, name='Snow Day', platform='PS4', population=348, last_updated=1502391334),\n",
      " Playlist(id=15, name='Snow Day', platform='XboxOne', population=239, last_updated=1502391334),\n",
      " Playlist(id=16, name='Rocket Labs', platform='Steam', population=79, last_updated=1502391334),\n",
      " Playlist(id=16, name='Rocket Labs', platform='PS4', population=174, last_updated=1502391334),\n",
      " Playlist(id=16, name='Rocket Labs', platform='XboxOne', population=159, last_updated=1502391334),\n",
      " Playlist(id=17, name='Hoops', platform='Steam', population=361, last_updated=1502391334),\n",
      " Playlist(id=17, name='Hoops', platform='PS4', population=429, last_updated=1502391334),\n",
      " Playlist(id=17, name='Hoops', platform='XboxOne', population=427, last_updated=1502391334),\n",
      " Playlist(id=18, name='Rumble', platform='Steam', population=1003, last_updated=1502391334),\n",
      " Playlist(id=18, name='Rumble', platform='PS4', population=2888, last_updated=1502391334),\n",
      " Playlist(id=18, name='Rumble', platform='XboxOne', population=2095, last_updated=1502391334),\n",
      " Playlist(id=23, name='Dropshot', platform='Steam', population=221, last_updated=1502391334),\n",
      " Playlist(id=23, name='Dropshot', platform='PS4', population=482, last_updated=1502391334),\n",
      " Playlist(id=23, name='Dropshot', platform='XboxOne', population=273, last_updated=1502391334)]\n",
      "\n",
      "Seasons:\n",
      "[Season(id=1, is_current=False, time_started=1441836000, time_ended=1455058800),\n",
      " Season(id=2, is_current=False, time_started=1455062400, time_ended=1466467200),\n",
      " Season(id=3, is_current=False, time_started=1434844800, time_ended=1458604800),\n",
      " Season(id=4, is_current=False, time_started=1458604800, time_ended=1499212800),\n",
      " Season(id=5, is_current=True, time_started=1499212800, time_ended=None)]\n",
      "\n",
      "Platforms:\n",
      "['Steam', 'PS4', 'XboxOne']\n",
      "\n",
      "Tiers:\n",
      "[Tier(id=0, name='Unranked'),\n",
      " Tier(id=1, name='Bronze I'),\n",
      " Tier(id=2, name='Bronze II'),\n",
      " Tier(id=3, name='Bronze III'),\n",
      " Tier(id=4, name='Silver I'),\n",
      " Tier(id=5, name='Silver II'),\n",
      " Tier(id=6, name='Silver III'),\n",
      " Tier(id=7, name='Gold I'),\n",
      " Tier(id=8, name='Gold II'),\n",
      " Tier(id=9, name='Gold III'),\n",
      " Tier(id=10, name='Platinum I'),\n",
      " Tier(id=11, name='Platinum II'),\n",
      " Tier(id=12, name='Platinum III'),\n",
      " Tier(id=13, name='Diamond I'),\n",
      " Tier(id=14, name='Diamond II'),\n",
      " Tier(id=15, name='Diamond III'),\n",
      " Tier(id=16, name='Champion I'),\n",
      " Tier(id=17, name='Champion II'),\n",
      " Tier(id=18, name='Champion III'),\n",
      " Tier(id=19, name='Grand Champion')]\n",
      "The event loop has now exited after executing the example.\n"
     ]
    }
   ],
   "source": [
    "# This entire cell was copied from the rocket_snake API docs\n",
    "\n",
    "import asyncio\n",
    "import rocket_snake as rs\n",
    "\n",
    "from pprint import pprint\n",
    "\n",
    "\n",
    "async def example_function():\n",
    "\n",
    "    client = rs.RLS_Client(key)\n",
    "\n",
    "    print(\"\\nPlaylists:\")\n",
    "    pprint(await client.get_playlists())\n",
    "    print(\"\\nSeasons:\")\n",
    "    pprint(await client.get_seasons())\n",
    "    print(\"\\nPlatforms:\")\n",
    "    pprint(await client.get_platforms())\n",
    "    print(\"\\nTiers:\")\n",
    "    pprint(await client.get_tiers())\n",
    "\n",
    "\n",
    "print(\"Creating and starting an asyncio event loop...\")\n",
    "\n",
    "my_loop = asyncio.get_event_loop()\n",
    "my_loop.run_until_complete(example_function())\n",
    "\n",
    "print(\"The event loop has now exited after executing the example.\")"
   ]
  }
 ],
 "metadata": {
  "kernelspec": {
   "display_name": "Python 3",
   "language": "python",
   "name": "python3"
  },
  "language_info": {
   "codemirror_mode": {
    "name": "ipython",
    "version": 3
   },
   "file_extension": ".py",
   "mimetype": "text/x-python",
   "name": "python",
   "nbconvert_exporter": "python",
   "pygments_lexer": "ipython3",
   "version": "3.5.1"
  }
 },
 "nbformat": 4,
 "nbformat_minor": 0
}
